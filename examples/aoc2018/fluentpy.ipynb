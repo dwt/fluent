{
 "cells": [
  {
   "cell_type": "code",
   "execution_count": 1,
   "metadata": {
    "collapsed": false,
    "inputHidden": false,
    "outputHidden": false
   },
   "outputs": [],
   "source": [
    "import fluentpy as _"
   ]
  },
  {
   "cell_type": "markdown",
   "metadata": {},
   "source": [
    "These are solutions for the Advent of Code puzzles of 2018 in the hopes that this might inspire the reader how to use the fluentpy api to solve problems.\n",
    "\n",
    "See https://adventofcode.com/2018/ for the problems.\n",
    "\n",
    "The goal of this is not to produce minimal code or neccessarily to be as clear as possible, but to showcase as many of the features of fluentpy. Pull requests to use more of fluentpy are welcome!\n",
    "\n",
    "I do hope however that you find the solutions relatively succinct as your understanding of how fluentpy works grows."
   ]
  },
  {
   "cell_type": "markdown",
   "metadata": {
    "inputHidden": false,
    "outputHidden": false
   },
   "source": [
    "# Day 1\n",
    "\n",
    "https://adventofcode.com/2018/day/1"
   ]
  },
  {
   "cell_type": "code",
   "execution_count": 2,
   "metadata": {
    "collapsed": false,
    "inputHidden": false,
    "outputHidden": false
   },
   "outputs": [
    {
     "data": {
      "text/plain": [
       "406"
      ]
     },
     "execution_count": 2,
     "metadata": {},
     "output_type": "execute_result"
    }
   ],
   "source": [
    "_(open('input/day1.txt')).read().replace('\\n','').call(eval)._"
   ]
  },
  {
   "cell_type": "code",
   "execution_count": 3,
   "metadata": {
    "inputHidden": false,
    "outputHidden": false
   },
   "outputs": [
    {
     "data": {
      "text/plain": [
       "312"
      ]
     },
     "execution_count": 3,
     "metadata": {},
     "output_type": "execute_result"
    }
   ],
   "source": [
    "day1_input = (\n",
    "    _(open('input/day1.txt'))\n",
    "    .readlines()\n",
    "    .imap(eval)\n",
    "    ._\n",
    ")\n",
    "\n",
    "seen = set()\n",
    "def havent_seen(number):\n",
    "    if number in seen:\n",
    "        return False\n",
    "    seen.add(number)\n",
    "    return True\n",
    "\n",
    "\n",
    "(\n",
    "    _(day1_input)\n",
    "    .icycle()\n",
    "    .iaccumulate()\n",
    "    .idropwhile(havent_seen)\n",
    "    .get(0)\n",
    "    ._\n",
    ")"
   ]
  },
  {
   "cell_type": "markdown",
   "metadata": {},
   "source": [
    "# Day 2\n",
    "\n",
    "https://adventofcode.com/2018/day/2"
   ]
  },
  {
   "cell_type": "code",
   "execution_count": 4,
   "metadata": {},
   "outputs": [],
   "source": [
    "day2 = open('input/day2.txt').readlines()"
   ]
  },
  {
   "cell_type": "code",
   "execution_count": 5,
   "metadata": {},
   "outputs": [
    {
     "data": {
      "text/plain": [
       "6888"
      ]
     },
     "execution_count": 5,
     "metadata": {},
     "output_type": "execute_result"
    }
   ],
   "source": [
    "def has_two_or_three(code):\n",
    "    counts = _.lib.collections.Counter(code).values()\n",
    "    return 2 in counts, 3 in counts\n",
    "\n",
    "twos, threes = _(day2).map(has_two_or_three).star_call(zip).to(tuple)._\n",
    "\n",
    "sum(twos) * sum(threes)"
   ]
  },
  {
   "cell_type": "code",
   "execution_count": 6,
   "metadata": {},
   "outputs": [
    {
     "data": {
      "text/plain": [
       "'icxjvbrobtunlelzpdmfkahgs\\n'"
      ]
     },
     "execution_count": 6,
     "metadata": {},
     "output_type": "execute_result"
    }
   ],
   "source": [
    "def is_different_by_only_one_char(codes):\n",
    "    # REFACT consider how to more effectively vectorize this function\n",
    "    # i.e. map ord, elementwise minus, count non zeroes == 1\n",
    "    code1, code2 = codes\n",
    "    diff_count = 0\n",
    "    for index, char in enumerate(code1):\n",
    "        if char != code2[index]:\n",
    "            diff_count += 1\n",
    "    return 1 == diff_count\n",
    "\n",
    "(\n",
    "    _(day2)\n",
    "    .icombinations(r=2)\n",
    "    .ifilter(is_different_by_only_one_char)\n",
    "    .get(0)\n",
    "    .star_call(zip)\n",
    "    .filter(lambda pair:  pair[0] == pair[1])\n",
    "    .star_call(zip)\n",
    "    .get(0)\n",
    "    .join('')\n",
    "    ._\n",
    ")"
   ]
  },
  {
   "cell_type": "markdown",
   "metadata": {},
   "source": [
    "# Day 3"
   ]
  },
  {
   "cell_type": "code",
   "execution_count": 7,
   "metadata": {},
   "outputs": [],
   "source": [
    "line_regex = r'#(\\d+) @ (\\d+),(\\d+): (\\d+)x(\\d+)'\n",
    "class Entry(_.lib.collections.namedtuple('Entry', ['id', 'left', 'top', 'width', 'height'])._):\n",
    "    \n",
    "    def coordinates(self):\n",
    "        return _.lib.itertools.product._(\n",
    "            range(claim.left, claim.left + claim.width),\n",
    "            range(claim.top, claim.top + claim.height)\n",
    "        )\n",
    "\n",
    "def parse_day3(line):\n",
    "    return _(line).match(line_regex).groups().map(int).star_call(Entry)._\n",
    "\n",
    "day3 = _(open('input/day3.txt')).read().splitlines().map(parse_day3)._"
   ]
  },
  {
   "cell_type": "code",
   "execution_count": 8,
   "metadata": {},
   "outputs": [
    {
     "data": {
      "text/plain": [
       "120419"
      ]
     },
     "execution_count": 8,
     "metadata": {},
     "output_type": "execute_result"
    }
   ],
   "source": [
    "plane = dict()\n",
    "for claim in day3:\n",
    "    for coordinate in claim.coordinates():\n",
    "        plane[coordinate] = plane.get(coordinate, 0) + 1\n",
    "_(plane).values().filter(_.each != 1).len()._"
   ]
  },
  {
   "cell_type": "code",
   "execution_count": 9,
   "metadata": {},
   "outputs": [
    {
     "name": "stdout",
     "output_type": "stream",
     "text": [
      "445\n"
     ]
    }
   ],
   "source": [
    "for claim in day3:\n",
    "    if _(claim.coordinates()).imap(lambda each: plane[each] == 1).all()._:\n",
    "        print(claim.id)"
   ]
  },
  {
   "cell_type": "markdown",
   "metadata": {},
   "source": [
    "# Day 4"
   ]
  },
  {
   "cell_type": "code",
   "execution_count": 10,
   "metadata": {},
   "outputs": [],
   "source": [
    "day4_lines = _(open('input/day4.txt')).read().splitlines().sort().self._"
   ]
  },
  {
   "cell_type": "code",
   "execution_count": 11,
   "metadata": {},
   "outputs": [],
   "source": [
    "class Sleep(_.lib.collections.namedtuple('Sleep', ['duty_start', 'sleep_start', 'sleep_end'])._):\n",
    "    \n",
    "    def minutes(self):\n",
    "        return (self.sleep_end - self.sleep_start).seconds // 60\n",
    "\n",
    "class Guard:\n",
    "    def __init__(self, guard_id, sleeps=None):\n",
    "        self.id = guard_id\n",
    "        self.sleeps = sleeps or list()\n",
    "    \n",
    "    def minutes_asleep(self):\n",
    "        return _(self.sleeps).map(_.each.minutes()._).sum()._\n",
    "    \n",
    "    def minutes_and_sleep_counts(self):\n",
    "        distribution = dict()\n",
    "        for sleep in self.sleeps:\n",
    "            # problematic if the hour wraps, but it never does, see check below\n",
    "            for minute in range(sleep.sleep_start.minute, sleep.sleep_end.minute):\n",
    "                distribution[minute] = distribution.get(minute, 0) + 1\n",
    "\n",
    "        return _(distribution).items().sorted(key=_.each[1]._, reverse=True)._\n",
    "    \n",
    "    def minute_most_asleep(self):\n",
    "        return _(self.minutes_and_sleep_counts()).get(0, tuple()).get(0, 0)._\n",
    "    \n",
    "    def number_of_most_sleeps(self):\n",
    "        return _(self.minutes_and_sleep_counts()).get(0, tuple()).get(1, 0)._"
   ]
  },
  {
   "cell_type": "code",
   "execution_count": 12,
   "metadata": {},
   "outputs": [],
   "source": [
    "guards = dict()\n",
    "current_guard = current_duty_start = current_sleep_start = None\n",
    "\n",
    "for line in day4_lines:\n",
    "    time = _.lib.datetime.datetime.fromisoformat(line[1:17])._\n",
    "    if 'Guard' in line:\n",
    "        guard_id = _(line[18:]).match(r'.*?(\\d+).*?').group(1).call(int)._\n",
    "        current_guard = guards.setdefault(guard_id, Guard(guard_id))\n",
    "        current_duty_start = time\n",
    "    if 'falls asleep' in line:\n",
    "        current_sleep_start = time\n",
    "    if 'wakes up' in line:\n",
    "        current_guard.sleeps.append(Sleep(current_duty_start, current_sleep_start, time))"
   ]
  },
  {
   "cell_type": "code",
   "execution_count": 13,
   "metadata": {},
   "outputs": [],
   "source": [
    "# confirm that we don't really have to do real date calculations but can just work with simplified values\n",
    "for guard in guards.values():\n",
    "    for sleep in guard.sleeps:\n",
    "        assert sleep.sleep_start.minute < sleep.sleep_end.minute\n",
    "        assert sleep.sleep_start.hour == 0\n",
    "        assert sleep.sleep_end.hour == 0"
   ]
  },
  {
   "cell_type": "code",
   "execution_count": 14,
   "metadata": {},
   "outputs": [
    {
     "data": {
      "text/plain": [
       "119835"
      ]
     },
     "execution_count": 14,
     "metadata": {},
     "output_type": "execute_result"
    }
   ],
   "source": [
    "guard = (\n",
    "    _(guards)\n",
    "    .values()\n",
    "    .sorted(key=Guard.minutes_asleep, reverse=True)\n",
    "    .get(0)\n",
    "    ._\n",
    ")\n",
    "guard.id * guard.minute_most_asleep()"
   ]
  },
  {
   "cell_type": "code",
   "execution_count": 15,
   "metadata": {},
   "outputs": [
    {
     "data": {
      "text/plain": [
       "12725"
      ]
     },
     "execution_count": 15,
     "metadata": {},
     "output_type": "execute_result"
    }
   ],
   "source": [
    "guard = (\n",
    "    _(guards)\n",
    "    .values()\n",
    "    .sorted(key=Guard.number_of_most_sleeps, reverse=True)\n",
    "    .get(0)\n",
    "    ._\n",
    ")\n",
    "guard.id * guard.minute_most_asleep()"
   ]
  },
  {
   "cell_type": "markdown",
   "metadata": {},
   "source": [
    "# Day 5"
   ]
  },
  {
   "cell_type": "code",
   "execution_count": 16,
   "metadata": {},
   "outputs": [],
   "source": [
    "day5 = _(open('input/day5.txt')).read().strip()._"
   ]
  },
  {
   "cell_type": "code",
   "execution_count": 17,
   "metadata": {},
   "outputs": [],
   "source": [
    "def is_reacting(a_polymer, an_index):\n",
    "    if an_index+2 > len(a_polymer):\n",
    "        return False\n",
    "    first, second = a_polymer[an_index:an_index+2]\n",
    "    return first.swapcase() == second\n",
    "\n",
    "def reduce(a_polymer):\n",
    "    for index in range(len(a_polymer) - 2, -1, -1):\n",
    "        if is_reacting(a_polymer, index):\n",
    "            a_polymer = a_polymer[:index] + a_polymer[index+2:]\n",
    "    return a_polymer\n",
    "\n",
    "def fully_reduce(a_polymer):\n",
    "    last_polymer = current_polymer = a_polymer\n",
    "    while True:\n",
    "        last_polymer, current_polymer = current_polymer, reduce(current_polymer)\n",
    "        if last_polymer == current_polymer:\n",
    "            break\n",
    "    return current_polymer"
   ]
  },
  {
   "cell_type": "code",
   "execution_count": 18,
   "metadata": {},
   "outputs": [
    {
     "data": {
      "text/plain": [
       "11252"
      ]
     },
     "execution_count": 18,
     "metadata": {},
     "output_type": "execute_result"
    }
   ],
   "source": [
    "len(fully_reduce(day5))"
   ]
  },
  {
   "cell_type": "code",
   "execution_count": 19,
   "metadata": {},
   "outputs": [
    {
     "data": {
      "text/plain": [
       "6118"
      ]
     },
     "execution_count": 19,
     "metadata": {},
     "output_type": "execute_result"
    }
   ],
   "source": [
    "alphabet = _(range(26)).map(_.each + ord('a')).map(chr)._\n",
    "shortest_length = float('inf')\n",
    "for char in alphabet:\n",
    "    polymer = day5.replace(char, '').replace(char.swapcase(), '')\n",
    "    length = len(fully_reduce(polymer))\n",
    "    if length < shortest_length:\n",
    "        shortest_length = length\n",
    "\n",
    "shortest_length"
   ]
  },
  {
   "cell_type": "markdown",
   "metadata": {},
   "source": [
    "# Day 6"
   ]
  },
  {
   "cell_type": "code",
   "execution_count": 20,
   "metadata": {},
   "outputs": [],
   "source": [
    "Point = _.lib.collections.namedtuple('Point', ['x', 'y'])._\n",
    "day6_coordinates = (\n",
    "    _(open('input/day6.txt'))\n",
    "    .read()\n",
    "    .splitlines()\n",
    "    .map(lambda each: _(each).split(', ').map(int).star_call(Point)._)\n",
    "    ._\n",
    ")"
   ]
  },
  {
   "cell_type": "code",
   "execution_count": 25,
   "metadata": {},
   "outputs": [],
   "source": [
    "def manhatten_distance(first, second):\n",
    "    return abs(first.x - second.x) + abs(first.y - second.y)\n",
    "\n",
    "def nearest_two_points_and_distances(a_point):\n",
    "    return (\n",
    "        _(day6_coordinates)\n",
    "        .imap(lambda each: (each, manhatten_distance(each, a_point)))\n",
    "        .sorted(key=_.each[1]._)\n",
    "        .slice(2)\n",
    "        ._\n",
    "    )\n",
    "\n",
    "def has_nearest_point(a_point):\n",
    "    (nearest_point, nearest_distance), (second_point, second_distance) \\\n",
    "        = nearest_two_points_and_distances(a_point)\n",
    "    return nearest_distance < second_distance\n",
    "\n",
    "def nearest_point(a_point):\n",
    "    return nearest_two_points_and_distances(a_point)[0][0]\n",
    "\n",
    "def plane_extent():\n",
    "    all_x, all_y = _(day6_coordinates).imap(lambda each: (each.x, each.y)).star_call(zip).to(tuple)._\n",
    "    min_x, min_y = min(all_x) - 1, min(all_y) - 1\n",
    "    max_x, max_y = max(all_x) + 2, max(all_y) + 2\n",
    "    return (\n",
    "        (min_x, min_y),\n",
    "        (max_x, max_y)\n",
    "    )\n",
    "\n",
    "def compute_bounding_box():\n",
    "    (min_x, min_y), (max_x, max_y) = plane_extent()\n",
    "    return _.lib.itertools.chain(\n",
    "        (Point(x, min_y) for x in range(min_x, max_x)),\n",
    "        (Point(x, max_y) for x in range(min_x, max_x)),\n",
    "        (Point(min_x, y) for y in range(min_y, max_y)),\n",
    "        (Point(max_x, y) for y in range(min_y, max_y)),\n",
    "    ).to(tuple)._\n",
    "bounding_box = compute_bounding_box()\n",
    "\n",
    "def internal_points():\n",
    "    # no point on bounding box is nearest to it\n",
    "    external_points = _(bounding_box).map(nearest_point).to(set)._\n",
    "    return set(day6_coordinates) - external_points\n",
    "\n",
    "def points_by_number_of_nearest_points():\n",
    "    plane = dict()\n",
    "    (min_x, min_y), (max_x, max_y) = plane_extent()\n",
    "    for x in range(min_x, max_x):\n",
    "        for y in range(min_y, max_y):\n",
    "            point = Point(x,y)\n",
    "            if has_nearest_point(point):\n",
    "                plane[point] = nearest_point(point)\n",
    "    \n",
    "    plane_points = _(plane).values().to(tuple)._\n",
    "    counts = dict()\n",
    "    for point in internal_points():\n",
    "        counts[point] = plane_points.count(point)\n",
    "    return counts"
   ]
  },
  {
   "cell_type": "code",
   "execution_count": 26,
   "metadata": {},
   "outputs": [
    {
     "data": {
      "text/plain": [
       "(Point(x=102, y=101), 3251)"
      ]
     },
     "execution_count": 26,
     "metadata": {},
     "output_type": "execute_result"
    }
   ],
   "source": [
    "points = points_by_number_of_nearest_points()\n",
    "_(points).items().sorted(key=_.each[1]._, reverse=True).get(0)._"
   ]
  },
  {
   "cell_type": "code",
   "execution_count": 23,
   "metadata": {},
   "outputs": [],
   "source": [
    "def total_distance(a_point):\n",
    "    return (\n",
    "        _(day6_coordinates)\n",
    "        .imap(lambda each: manhatten_distance(a_point, each))\n",
    "        .sum()\n",
    "        ._\n",
    "    )\n",
    "\n",
    "def number_of_points_with_total_distance_less(a_limit):\n",
    "    plane = dict()\n",
    "    (min_x, min_y), (max_x, max_y) = plane_extent()\n",
    "    for x in range(min_x, max_x):\n",
    "        for y in range(min_y, max_y):\n",
    "            point = Point(x,y)\n",
    "            plane[point] = total_distance(point)\n",
    "    \n",
    "    return (\n",
    "        _(plane)\n",
    "        .values()\n",
    "        .ifilter(_.each < a_limit)\n",
    "        .len()\n",
    "        ._\n",
    "    )"
   ]
  },
  {
   "cell_type": "code",
   "execution_count": 24,
   "metadata": {},
   "outputs": [
    {
     "data": {
      "text/plain": [
       "47841"
      ]
     },
     "execution_count": 24,
     "metadata": {},
     "output_type": "execute_result"
    }
   ],
   "source": [
    "number_of_points_with_total_distance_less(10000)"
   ]
  },
  {
   "cell_type": "markdown",
   "metadata": {},
   "source": [
    "# Day 7\n",
    "\n",
    "https://adventofcode.com/2018/day/7"
   ]
  },
  {
   "cell_type": "code",
   "execution_count": 27,
   "metadata": {},
   "outputs": [],
   "source": [
    "import fluentpy as _"
   ]
  },
  {
   "cell_type": "code",
   "execution_count": 28,
   "metadata": {},
   "outputs": [],
   "source": [
    "day7_input = (\n",
    "    _(open('input/day7.txt'))\n",
    "    .read()\n",
    "    .findall(r'Step (\\w) must be finished before step (\\w) can begin.', flags=_.lib.re.M._)\n",
    "    ._\n",
    ")"
   ]
  },
  {
   "cell_type": "code",
   "execution_count": 29,
   "metadata": {},
   "outputs": [
    {
     "data": {
      "text/plain": [
       "'BDHNEGOLQASVWYPXUMZJIKRTFC'"
      ]
     },
     "execution_count": 29,
     "metadata": {},
     "output_type": "execute_result"
    }
   ],
   "source": [
    "def execute_in_order(dependencies):\n",
    "    prerequisites = dict()\n",
    "    _(dependencies).each(lambda each: prerequisites.setdefault(each[1], []).append(each[0]))\n",
    "    all_jobs = _(dependencies).flatten().call(set)._\n",
    "    ready_jobs = all_jobs - prerequisites.keys()\n",
    "    done_jobs = []\n",
    "    \n",
    "    while 0 != len(ready_jobs):\n",
    "        current_knot = _(ready_jobs).sorted()[0]._\n",
    "        ready_jobs.discard(current_knot)\n",
    "        done_jobs.append(current_knot)\n",
    "        for knot in all_jobs.difference(done_jobs):\n",
    "            if set(done_jobs).issuperset(prerequisites.get(knot, [])):\n",
    "                ready_jobs.add(knot)\n",
    "\n",
    "\n",
    "    return _(done_jobs).join('')._\n",
    "execute_in_order(day7_input)"
   ]
  },
  {
   "cell_type": "code",
   "execution_count": 30,
   "metadata": {},
   "outputs": [],
   "source": [
    "def cached_property(cache_instance_variable_name):\n",
    "    def outer_wrapper(a_method):\n",
    "        @property\n",
    "        @_.lib.functools.wraps._(a_method)\n",
    "        def wrapper(self):\n",
    "            if not hasattr(self, cache_instance_variable_name):\n",
    "                setattr(self, cache_instance_variable_name, a_method(self))\n",
    "            return getattr(self, cache_instance_variable_name)\n",
    "        return wrapper\n",
    "    return outer_wrapper\n",
    "    \n",
    "class Jobs:\n",
    "    def __init__(self, dependencies, delays):\n",
    "        self.dependencies = dependencies\n",
    "        self.delays = delays\n",
    "        \n",
    "        self._ready = self.all.difference(self.prerequisites.keys())\n",
    "        self._done = []\n",
    "        self._in_progress = set()\n",
    "    \n",
    "    @cached_property('_prerequisites')\n",
    "    def prerequisites(self):\n",
    "        prerequisites = dict()\n",
    "        for prerequisite, job in self.dependencies:\n",
    "            prerequisites.setdefault(job, []).append(prerequisite)\n",
    "        return prerequisites\n",
    "    \n",
    "    @cached_property('_all')\n",
    "    def all(self):\n",
    "        return _(self.dependencies).flatten().call(set)._\n",
    "    \n",
    "    def can_start(self, a_job):\n",
    "        return set(self._done).issuperset(self.prerequisites.get(a_job, []))\n",
    "    \n",
    "    def has_ready_jobs(self):\n",
    "        return 0 != len(self._ready)\n",
    "    \n",
    "    def get_ready_job(self):\n",
    "        assert self.has_ready_jobs()\n",
    "        \n",
    "        current_job = _(self._ready).sorted()[0]._\n",
    "        self._ready.remove(current_job)\n",
    "        self._in_progress.add(current_job)\n",
    "        \n",
    "        return current_job, self.delays[current_job]\n",
    "    \n",
    "    def set_job_done(self, a_job):\n",
    "        assert a_job in self._in_progress\n",
    "        \n",
    "        self._done.append(a_job)\n",
    "        self._in_progress.remove(a_job)\n",
    "        \n",
    "        for job in self.unstarted():\n",
    "            if self.can_start(job):\n",
    "                self._ready.add(job)\n",
    "    \n",
    "    def unstarted(self):\n",
    "        return self.all.difference(self._in_progress.union(self._done))\n",
    "    \n",
    "    def is_done(self):\n",
    "        return set(self._done) == self.all\n",
    "    \n",
    "    def __repr__(self):\n",
    "        return f'<Jobs(in_progress={self._in_progress}, done={self._done})>'\n",
    "\n",
    "@_.lib.dataclasses.dataclass._\n",
    "class Worker:\n",
    "    id: int\n",
    "    delay: int\n",
    "    current_job: str\n",
    "    \n",
    "    jobs: Jobs\n",
    "    \n",
    "    def work_a_second(self):\n",
    "        self.delay -= 1\n",
    "        \n",
    "        if self.delay <= 0:\n",
    "            self.finish_job_if_working()\n",
    "            self.accept_job_if_available()\n",
    "    \n",
    "    def finish_job_if_working(self):\n",
    "        if self.current_job is None:\n",
    "            return\n",
    "        \n",
    "        self.jobs.set_job_done(self.current_job)\n",
    "        self.current_job = None\n",
    "    \n",
    "    def accept_job_if_available(self):\n",
    "        if not self.jobs.has_ready_jobs():\n",
    "            return\n",
    "        \n",
    "        self.current_job, self.delay = self.jobs.get_ready_job()\n",
    "\n",
    "def execute_in_parallel(dependencies, delays, number_of_workers):\n",
    "    jobs = Jobs(dependencies, delays)\n",
    "    workers = _(range(number_of_workers)).map(_(Worker).curry(\n",
    "        id=_,\n",
    "        delay=0, current_job=None, jobs=jobs,\n",
    "    )._)._\n",
    "    \n",
    "    seconds = -1\n",
    "    while not jobs.is_done():\n",
    "        seconds += 1\n",
    "        _(workers).each(_.each.work_a_second()._)\n",
    "\n",
    "    return seconds\n"
   ]
  },
  {
   "cell_type": "code",
   "execution_count": 31,
   "metadata": {},
   "outputs": [
    {
     "data": {
      "text/plain": [
       "15"
      ]
     },
     "execution_count": 31,
     "metadata": {},
     "output_type": "execute_result"
    }
   ],
   "source": [
    "test_input = (('C', 'A'), ('C', 'F'), ('A', 'B'), ('A', 'D'), ('B', 'E'), ('D', 'E'), ('F', 'E'))\n",
    "test_delays = _(range(1,27)).map(lambda each: (chr(ord('A') + each - 1), each)).call(dict)._\n",
    "execute_in_parallel(test_input, test_delays, 2)"
   ]
  },
  {
   "cell_type": "code",
   "execution_count": 32,
   "metadata": {},
   "outputs": [
    {
     "data": {
      "text/plain": [
       "1107"
      ]
     },
     "execution_count": 32,
     "metadata": {},
     "output_type": "execute_result"
    }
   ],
   "source": [
    "day7_delays = _(range(1,27)).map(lambda each: (chr(ord('A') + each - 1), 60 + each)).call(dict)._\n",
    "\n",
    "assert 1107 == execute_in_parallel(day7_input, day7_delays, 5)\n",
    "execute_in_parallel(day7_input, day7_delays, 5)"
   ]
  },
  {
   "cell_type": "markdown",
   "metadata": {},
   "source": [
    "# Day 8\n",
    "\n",
    "https://adventofcode.com/2018/day/8"
   ]
  },
  {
   "cell_type": "code",
   "execution_count": 33,
   "metadata": {},
   "outputs": [],
   "source": [
    "import fluentpy as _"
   ]
  },
  {
   "cell_type": "code",
   "execution_count": 34,
   "metadata": {},
   "outputs": [],
   "source": [
    "@_.lib.dataclasses.dataclass._\n",
    "class Node:\n",
    "    children: tuple\n",
    "    metadata: tuple\n",
    "    \n",
    "    @classmethod\n",
    "    def parse(cls, number_iterator):\n",
    "        child_count = next(number_iterator)\n",
    "        metadata_count = next(number_iterator)\n",
    "        return cls(\n",
    "            children=_(range(child_count)).map(lambda ignored: Node.parse(number_iterator))._,\n",
    "            metadata=_(range(metadata_count)).map(lambda ignored: next(number_iterator))._,\n",
    "        )\n",
    "    \n",
    "    def sum_all_metadata(self):\n",
    "        return sum(self.metadata) + _(self.children).imap(_.each.sum_all_metadata()._).sum()._\n",
    "    \n",
    "    def value(self):\n",
    "        if 0 == len(self.children):\n",
    "            return sum(self.metadata)\n",
    "        \n",
    "        return (\n",
    "            _(self.metadata)\n",
    "            .imap(_.each - 1) # convert to indexes\n",
    "            .ifilter(_.each >= 0)\n",
    "            .ifilter(_.each < len(self.children))\n",
    "            .imap(self.children.__getitem__)\n",
    "            .map(Node.value)\n",
    "            .sum()\n",
    "            ._\n",
    "        )"
   ]
  },
  {
   "cell_type": "code",
   "execution_count": 35,
   "metadata": {},
   "outputs": [],
   "source": [
    "test_input = (2,3,0,3,10,11,12,1,1,0,1,99,2,1,1,2)\n",
    "test_node = Node.parse(iter(test_input))\n",
    "\n",
    "assert 138 == test_node.sum_all_metadata()\n",
    "assert 66 == test_node.value()"
   ]
  },
  {
   "cell_type": "code",
   "execution_count": 36,
   "metadata": {},
   "outputs": [
    {
     "data": {
      "text/plain": [
       "45210"
      ]
     },
     "execution_count": 36,
     "metadata": {},
     "output_type": "execute_result"
    }
   ],
   "source": [
    "day8_input = _(open('input/day8.txt')).read().split(' ').map(int)._\n",
    "node = Node.parse(iter(day8_input))\n",
    "node.sum_all_metadata()"
   ]
  },
  {
   "cell_type": "markdown",
   "metadata": {},
   "source": [
    "# Day 9\n",
    "\n",
    "https://adventofcode.com/2018/day/9"
   ]
  },
  {
   "cell_type": "code",
   "execution_count": 37,
   "metadata": {},
   "outputs": [],
   "source": [
    "class Marble:\n",
    "    \n",
    "    def __init__(self, value):\n",
    "        self.value = value\n",
    "        self.prev = self.next = self\n",
    "    \n",
    "    def insert_after(self, a_marble):\n",
    "        a_marble.next = self.next\n",
    "        a_marble.prev = self\n",
    "        \n",
    "        a_marble.next.prev = a_marble.prev.next = a_marble\n",
    "    \n",
    "    def remove(self):\n",
    "        self.prev.next = self.next\n",
    "        self.next.prev = self.prev\n",
    "        return self\n",
    "\n",
    "class Circle:\n",
    "    \n",
    "    def __init__(self):\n",
    "        self.current = None\n",
    "    \n",
    "    def play_marble(self, marble):\n",
    "        if self.current is None:\n",
    "            self.current = marble\n",
    "            return 0 # normmal insert, no points, only happens once at the beginning\n",
    "        elif marble.value % 23 == 0:\n",
    "            removed = self.current.prev.prev.prev.prev.prev.prev.prev.remove()\n",
    "            self.current = removed.next\n",
    "            return marble.value + removed.value\n",
    "        else:\n",
    "            self.current.next.insert_after(marble)\n",
    "            self.current = marble\n",
    "            return 0 # normal insert, no points\n",
    "        \n",
    "def marble_game(player_count, marbles):\n",
    "    player_scores = [0] * player_count\n",
    "    circle = Circle()\n",
    "    for marble_value in range(marbles + 1):\n",
    "        player_scores[marble_value % player_count] += circle.play_marble(Marble(marble_value))\n",
    "    return max(player_scores)"
   ]
  },
  {
   "cell_type": "code",
   "execution_count": 38,
   "metadata": {},
   "outputs": [],
   "source": [
    "assert 8317 == marble_game(player_count=10, marbles=1618)\n",
    "assert 146373 == marble_game(player_count=13, marbles=7999)\n",
    "assert 2764 == marble_game(player_count=17, marbles=1104)\n",
    "assert 54718 == marble_game(player_count=21, marbles=6111)\n",
    "assert 37305 == marble_game(player_count=30, marbles=5807)"
   ]
  },
  {
   "cell_type": "code",
   "execution_count": 39,
   "metadata": {},
   "outputs": [
    {
     "data": {
      "text/plain": [
       "384288"
      ]
     },
     "execution_count": 39,
     "metadata": {},
     "output_type": "execute_result"
    }
   ],
   "source": [
    "marble_game(player_count=455, marbles=71223)"
   ]
  },
  {
   "cell_type": "code",
   "execution_count": 40,
   "metadata": {},
   "outputs": [
    {
     "data": {
      "text/plain": [
       "3189426841"
      ]
     },
     "execution_count": 40,
     "metadata": {},
     "output_type": "execute_result"
    }
   ],
   "source": [
    "marble_game(player_count=455, marbles=71223*100)"
   ]
  },
  {
   "cell_type": "markdown",
   "metadata": {},
   "source": [
    "# Day 10\n",
    "\n",
    "https://adventofcode.com/2018/day/10"
   ]
  },
  {
   "cell_type": "code",
   "execution_count": 41,
   "metadata": {},
   "outputs": [],
   "source": [
    "@_.lib.dataclasses.dataclass._\n",
    "class Particle:\n",
    "    x: int\n",
    "    y: int\n",
    "    delta_x: int\n",
    "    delta_y: int"
   ]
  },
  {
   "cell_type": "code",
   "execution_count": 42,
   "metadata": {},
   "outputs": [],
   "source": [
    "day10_input = (\n",
    "    _(open('input/day10.txt'))\n",
    "    .read()\n",
    "    .findall(r'position=<\\s?(-?\\d+),\\s+(-?\\d+)> velocity=<\\s*(-?\\d+),\\s+(-?\\d+)>')\n",
    "    .map(lambda each: _(each).map(int)._)\n",
    "    .call(list)\n",
    "    ._\n",
    ")\n"
   ]
  },
  {
   "cell_type": "code",
   "execution_count": 43,
   "metadata": {},
   "outputs": [],
   "source": [
    "%matplotlib inline"
   ]
  },
  {
   "cell_type": "code",
   "execution_count": 44,
   "metadata": {},
   "outputs": [],
   "source": [
    "def evolve(particles):\n",
    "    particles.x += particles.delta_x\n",
    "    particles.y += particles.delta_y\n",
    "\n",
    "def devolve(particles):\n",
    "    particles.x -= particles.delta_x\n",
    "    particles.y -= particles.delta_y\n",
    "\n",
    "def show(particles):\n",
    "    particles.y *= -1\n",
    "    particles.plot(x='x', y='y', kind='scatter', s=1)\n",
    "    particles.y *= -1\n",
    "\n",
    "last_width = last_height = float('inf')\n",
    "def particles_are_shrinking(particles):\n",
    "    global last_width, last_height\n",
    "    current_width = particles.x.max() - particles.x.min()\n",
    "    current_height = particles.y.max() - particles.y.min()\n",
    "    is_shrinking = current_width < last_width and current_height < last_height\n",
    "    last_width, last_height = current_width, current_height\n",
    "    return is_shrinking"
   ]
  },
  {
   "cell_type": "code",
   "execution_count": 45,
   "metadata": {},
   "outputs": [],
   "source": [
    "particles = _.lib.pandas.DataFrame.from_records(\n",
    "    data=day10_input, \n",
    "    columns=['x', 'y', 'delta_x', 'delta_y']\n",
    ")._"
   ]
  },
  {
   "cell_type": "code",
   "execution_count": 46,
   "metadata": {},
   "outputs": [
    {
     "data": {
      "text/plain": [
       "10009"
      ]
     },
     "execution_count": 46,
     "metadata": {},
     "output_type": "execute_result"
    },
    {
     "data": {
      "image/png": "[encoded data removed]",
      "text/plain": [
       "<Figure size 432x288 with 1 Axes>"
      ]
     },
     "metadata": {
      "needs_background": "light"
     },
     "output_type": "display_data"
    }
   ],
   "source": [
    "last_width = last_height = float('inf')\n",
    "seconds = 0\n",
    "while particles_are_shrinking(particles):\n",
    "    evolve(particles)\n",
    "    seconds += 1\n",
    "devolve(particles)\n",
    "show(particles)\n",
    "seconds - 1"
   ]
  },
  {
   "cell_type": "markdown",
   "metadata": {},
   "source": [
    "# Day 11\n",
    "\n",
    "https://adventofcode.com/2018/day/11"
   ]
  },
  {
   "cell_type": "code",
   "execution_count": 47,
   "metadata": {},
   "outputs": [],
   "source": [
    "import fluentpy as _\n",
    "from pyexpect import expect"
   ]
  },
  {
   "cell_type": "code",
   "execution_count": 48,
   "metadata": {},
   "outputs": [],
   "source": [
    "def power_level(x, y, grid_serial):\n",
    "    rack_id = x + 10\n",
    "    power_level = rack_id * y\n",
    "    power_level += grid_serial\n",
    "    power_level *= rack_id\n",
    "    power_level //= 100\n",
    "    power_level %= 10\n",
    "    return power_level - 5"
   ]
  },
  {
   "cell_type": "code",
   "execution_count": 49,
   "metadata": {},
   "outputs": [],
   "source": [
    "assert 4 == power_level(x=3, y=5, grid_serial=8)\n",
    "assert -5 == power_level( 122,79, grid_serial=57)\n",
    "assert  0 == power_level(217,196, grid_serial=39)\n",
    "assert  4 == power_level(101,153, grid_serial=71)"
   ]
  },
  {
   "cell_type": "code",
   "execution_count": 50,
   "metadata": {},
   "outputs": [],
   "source": [
    "def power_levels(grid_serial):\n",
    "    return (\n",
    "        _(range(1, 301))\n",
    "        .product(repeat=2)\n",
    "        .star_map(_(power_level).curry(x=_, y=_, grid_serial=grid_serial)._)\n",
    "        .to(_.lib.numpy.array)\n",
    "        ._\n",
    "        .reshape(300, -1)\n",
    "        .T\n",
    "    )"
   ]
  },
  {
   "cell_type": "code",
   "execution_count": 51,
   "metadata": {},
   "outputs": [],
   "source": [
    "def compute_max_power(matrix, subset_size):\n",
    "    expect(matrix.shape[0]) == matrix.shape[1]\n",
    "    expect(subset_size) <= matrix.shape[0]\n",
    "    expect(subset_size) > 0\n",
    "    \n",
    "    # +1 because 300 matrix by 300 subset should produce one value\n",
    "    width = matrix.shape[0] - subset_size + 1\n",
    "    height = matrix.shape[1] - subset_size + 1\n",
    "    output = _.lib.numpy.zeros((width, height))._\n",
    "    for x in range(width):\n",
    "        for y in range(height):\n",
    "            output[x,y] = matrix[y:y+subset_size, x:x+subset_size].sum()\n",
    "    return output\n",
    "\n",
    "def coordinates_with_max_power(matrix, subset_size=3):\n",
    "    output = compute_max_power(matrix, subset_size=subset_size)\n",
    "    np = _.lib.numpy._\n",
    "    index = np.unravel_index(np.argmax(output), output.shape)\n",
    "    return (\n",
    "        _(index).map(_.each + 1)._, # turn back into coordinates\n",
    "        np.amax(output)\n",
    "    )"
   ]
  },
  {
   "cell_type": "code",
   "execution_count": 52,
   "metadata": {},
   "outputs": [],
   "source": [
    "result = coordinates_with_max_power(power_levels(18))\n",
    "assert ((33, 45), 29) == result, result\n",
    "result = coordinates_with_max_power(power_levels(42))\n",
    "assert ((21, 61), 30) == result, result"
   ]
  },
  {
   "cell_type": "code",
   "execution_count": 53,
   "metadata": {},
   "outputs": [
    {
     "data": {
      "text/plain": [
       "((235, 63), 29.0)"
      ]
     },
     "execution_count": 53,
     "metadata": {},
     "output_type": "execute_result"
    }
   ],
   "source": [
    "coordinates_with_max_power(power_levels(5034))"
   ]
  },
  {
   "cell_type": "code",
   "execution_count": 54,
   "metadata": {},
   "outputs": [],
   "source": [
    "def find_best_subset(matrix):\n",
    "    best_max_power = best_subset_size = float('-inf')\n",
    "    best_coordinates = None\n",
    "    for subset_size in range(1, matrix.shape[0] + 1):\n",
    "        coordinates, max_power = coordinates_with_max_power(matrix, subset_size=subset_size)\n",
    "        if max_power > best_max_power:\n",
    "            best_max_power = max_power\n",
    "            best_subset_size = subset_size\n",
    "            best_coordinates = coordinates\n",
    "    return (\n",
    "        best_coordinates,\n",
    "        best_subset_size,\n",
    "        best_max_power,\n",
    "    )"
   ]
  },
  {
   "cell_type": "code",
   "execution_count": 55,
   "metadata": {},
   "outputs": [],
   "source": [
    "result = coordinates_with_max_power(power_levels(18), subset_size=16)\n",
    "expect(result) == ((90, 269), 113) \n",
    "result = coordinates_with_max_power(power_levels(42), subset_size=12)\n",
    "expect(result) == ((232, 251), 119)"
   ]
  },
  {
   "cell_type": "code",
   "execution_count": 56,
   "metadata": {},
   "outputs": [],
   "source": [
    "result = find_best_subset(power_levels(18))\n",
    "expect(result) == ((90, 269), 16, 113)"
   ]
  },
  {
   "cell_type": "code",
   "execution_count": 57,
   "metadata": {},
   "outputs": [
    {
     "data": {
      "text/plain": [
       "((229, 251), 16, 109.0)"
      ]
     },
     "execution_count": 57,
     "metadata": {},
     "output_type": "execute_result"
    }
   ],
   "source": [
    "find_best_subset(power_levels(5034))"
   ]
  },
  {
   "cell_type": "markdown",
   "metadata": {},
   "source": [
    "# Day 12\n",
    "\n",
    "https://adventofcode.com/2018/day/12"
   ]
  },
  {
   "cell_type": "code",
   "execution_count": 58,
   "metadata": {},
   "outputs": [],
   "source": [
    "import fluentpy as _"
   ]
  },
  {
   "cell_type": "code",
   "execution_count": 59,
   "metadata": {},
   "outputs": [],
   "source": [
    "def parse(a_string):\n",
    "    is_flower = _.each == '#'\n",
    "    initial_state = (\n",
    "        _(a_string)\n",
    "        .match(r'initial state:\\s*([#.]+)')\n",
    "        .group(1)\n",
    "        .map(is_flower)\n",
    "        .enumerate()\n",
    "        .call(dict)\n",
    "        ._\n",
    "    )\n",
    "\n",
    "    patterns = dict(\n",
    "        _(a_string)\n",
    "        .findall('([#.]{5})\\s=>\\s([#.])')\n",
    "        .map(lambda each: (_(each[0]).map(is_flower)._, is_flower(each[1])))\n",
    "        ._\n",
    "    )\n",
    "    return initial_state, patterns\n",
    "\n",
    "def print_state(generation, state):\n",
    "    lowest_offset = min(state)\n",
    "    print(f'{generation:>5} {sum_state(state):>5} {lowest_offset:>5}: ', end='')\n",
    "    print(string_from_state(state))\n",
    "\n",
    "def string_from_state(state):\n",
    "    lowest_offset, highest_offset = min(state), max(state)\n",
    "    return (\n",
    "        _(range(lowest_offset - 2, highest_offset + 3))\n",
    "        .map(lambda each: state.get(each, False))\n",
    "        .map(lambda each: each and '#' or '.')\n",
    "        .join()\n",
    "        ._\n",
    "    )\n",
    "\n",
    "def sum_state(state):\n",
    "    return (\n",
    "        _(state)\n",
    "        .items()\n",
    "        .map(lambda each: each[1] and each[0] or 0)\n",
    "        .sum()\n",
    "        ._\n",
    "    )\n",
    "\n",
    "def evolve(initial_state, patterns, number_of_generations, \n",
    "           show_sums=False, show_progress=False, show_state=False, stop_on_repetition=False):\n",
    "    current_state = dict(initial_state)\n",
    "    next_state = dict()\n",
    "    \n",
    "    def surrounding_of(state, index):\n",
    "        return tuple(state.get(each, False) for each in range(index-2, index+3))\n",
    "    \n",
    "    def compute_next_generation():\n",
    "        nonlocal current_state, next_state\n",
    "        first_key, last_key = min(current_state), max(current_state)\n",
    "        for index in range(first_key - 2, last_key + 2):\n",
    "            is_flower = patterns.get(surrounding_of(current_state, index), False)\n",
    "            if is_flower:\n",
    "                next_state[index] = is_flower\n",
    "        \n",
    "        current_state, next_state = next_state, dict()\n",
    "        return current_state\n",
    "    \n",
    "    seen = set()\n",
    "    for generation in range(number_of_generations):\n",
    "        if show_sums:\n",
    "            print(generation, sum_state(current_state))\n",
    "        if show_progress and generation % 1000 == 0: print('.', end='')\n",
    "        if show_state: print_state(generation, current_state)\n",
    "        if stop_on_repetition:\n",
    "            stringified = string_from_state(current_state)\n",
    "            if stringified in seen:\n",
    "                print(f'repetition on generation {generation}')\n",
    "                print(stringified)\n",
    "                return current_state\n",
    "            seen.add(stringified)\n",
    "        \n",
    "        compute_next_generation()\n",
    "    \n",
    "    return current_state"
   ]
  },
  {
   "cell_type": "code",
   "execution_count": 60,
   "metadata": {},
   "outputs": [
    {
     "name": "stdout",
     "output_type": "stream",
     "text": [
      "    0   145     0: ..#..#.#..##......###...###..\n",
      "    1    91     0: ..#...#....#.....#..#..#..#..\n",
      "    2   132     0: ..##..##...##....#..#..#..##..\n",
      "    3   102    -1: ..#.#...#..#.#....#..#..#...#..\n",
      "    4   154     0: ..#.#..#...#.#...#..#..##..##..\n",
      "    5   115     1: ..#...##...#.#..#..#...#...#..\n",
      "    6   174     1: ..##.#.#....#...#..##..##..##..\n",
      "    7   126     0: ..#..###.#...##..#...#...#...#..\n",
      "    8   213     0: ..#....##.#.#.#..##..##..##..##..\n",
      "    9   138     0: ..##..#..#####....#...#...#...#..\n",
      "   10   213    -1: ..#.#..#...#.##....##..##..##..##..\n",
      "   11   136     0: ..#...##...#.#...#.#...#...#...#..\n",
      "   12   218     0: ..##.#.#....#.#...#.#..##..##..##..\n",
      "   13   133    -1: ..#..###.#....#.#...#....#...#...#..\n",
      "   14   235    -1: ..#....##.#....#.#..##...##..##..##..\n",
      "   15   149    -1: ..##..#..#.#....#....#..#.#...#...#..\n",
      "   16   226    -2: ..#.#..#...#.#...##...#...#.#..##..##..\n",
      "   17   170    -1: ..#...##...#.#.#.#...##...#....#...#..\n",
      "   18   280    -1: ..##.#.#....#####.#.#.#...##...##..##..\n",
      "   19   287    -2: ..#..###.#..#.#.#######.#.#.#..#.#...#..\n"
     ]
    }
   ],
   "source": [
    "end_state = evolve(*parse(\"\"\"initial state: #..#.#..##......###...###\n",
    "\n",
    "...## => #\n",
    "..#.. => #\n",
    ".#... => #\n",
    ".#.#. => #\n",
    ".#.## => #\n",
    ".##.. => #\n",
    ".#### => #\n",
    "#.#.# => #\n",
    "#.### => #\n",
    "##.#. => #\n",
    "##.## => #\n",
    "###.. => #\n",
    "###.# => #\n",
    "####. => #\n",
    "\"\"\"), 20, show_state=True)\n",
    "assert 325 == sum_state(end_state)"
   ]
  },
  {
   "cell_type": "code",
   "execution_count": 61,
   "metadata": {},
   "outputs": [
    {
     "data": {
      "text/plain": [
       "3337"
      ]
     },
     "execution_count": 61,
     "metadata": {},
     "output_type": "execute_result"
    }
   ],
   "source": [
    "day12_input = open('input/day12.txt').read()\n",
    "sum_state(evolve(*parse(day12_input), 20))"
   ]
  },
  {
   "cell_type": "code",
   "execution_count": 62,
   "metadata": {},
   "outputs": [
    {
     "name": "stdout",
     "output_type": "stream",
     "text": [
      "repetition on generation 135\n",
      "..####.#.....###.#.....####.#.....###.#.....###.#.....###.#....####.#.....###.#....####.#....####.#.....###.#.....####.#...####.#....###.#.....####.#....###.#.....###.#.....####.#....####.#..\n"
     ]
    },
    {
     "data": {
      "text/plain": [
       "11959"
      ]
     },
     "execution_count": 62,
     "metadata": {},
     "output_type": "execute_result"
    }
   ],
   "source": [
    "# still very much tooo slow\n",
    "number_of_iterations = 50000000000\n",
    "#number_of_iterations = 200\n",
    "sum_state(evolve(*parse(day12_input), number_of_iterations, stop_on_repetition=True))"
   ]
  },
  {
   "cell_type": "code",
   "execution_count": 63,
   "metadata": {},
   "outputs": [
    {
     "data": {
      "text/plain": [
       "4300000000349"
      ]
     },
     "execution_count": 63,
     "metadata": {},
     "output_type": "execute_result"
    }
   ],
   "source": [
    "last_score = 11959\n",
    "increment_per_generation = 11959 - 11873\n",
    "last_generation = 135\n",
    "generations_to_go = number_of_iterations - last_generation\n",
    "end_score = last_score + generations_to_go * increment_per_generation\n",
    "end_score"
   ]
  },
  {
   "cell_type": "code",
   "execution_count": 64,
   "metadata": {},
   "outputs": [],
   "source": [
    "import fluentpy as _"
   ]
  },
  {
   "cell_type": "code",
   "execution_count": 65,
   "metadata": {},
   "outputs": [],
   "source": [
    "# Numpy implementation for comparison\n",
    "np = _.lib.numpy._\n",
    "\n",
    "class State:\n",
    "    \n",
    "    @classmethod\n",
    "    def parse_string(cls, a_string):\n",
    "        is_flower = lambda each: int(each == '#')\n",
    "        initial_state = (\n",
    "            _(a_string)\n",
    "            .match(r'initial state:\\s*([#\\.]+)')\n",
    "            .group(1)\n",
    "            .map(is_flower)\n",
    "            ._\n",
    "        )\n",
    "\n",
    "        patterns = (\n",
    "            _(a_string)\n",
    "            .findall('([#.]{5})\\s=>\\s([#\\.])')\n",
    "            .map(lambda each: (_(each[0]).map(is_flower)._, is_flower(each[1])))\n",
    "            ._\n",
    "        )\n",
    "        return initial_state, patterns\n",
    "\n",
    "    @classmethod\n",
    "    def from_string(cls, a_string):\n",
    "        return cls(*cls.parse_string(a_string))\n",
    "    \n",
    "    def __init__(self, initial_state, patterns):\n",
    "        self.type = np.uint8\n",
    "        self.patterns = self.trie_from_patterns(patterns)\n",
    "        self.state = np.zeros(len(initial_state) * 3, dtype=self.type)\n",
    "        self.zero = self.state.shape[0] // 2\n",
    "        self.state[self.zero:self.zero+len(initial_state)] = initial_state\n",
    "    \n",
    "    def trie_from_patterns(self, patterns):\n",
    "        trie = np.zeros((2,) * 5, dtype=self.type)\n",
    "        for pattern, production in patterns:\n",
    "            trie[pattern] = production\n",
    "        return trie\n",
    "    \n",
    "    @property\n",
    "    def size(self):\n",
    "        return self.state.shape[0]\n",
    "    \n",
    "    def recenter_or_grow_if_neccessary(self):\n",
    "        # check how much empty space there is, and if re-centering the pattern might be good enough\n",
    "        if self.needs_resize() and self.is_region_empty(0, self.zero - self.size // 4):\n",
    "            self.move(- self.size // 4)\n",
    "        if self.needs_resize() and self.is_region_empty(self.zero + self.size // 4, -1):\n",
    "            self.move(self.size // 4)\n",
    "        if self.needs_resize():\n",
    "            self.grow()\n",
    "\n",
    "    def needs_resize(self):\n",
    "        return any(self.state[:4]) or any(self.state[-4:])\n",
    "    \n",
    "    def is_region_empty(self, lower_limit, upper_limit):\n",
    "        return not any(self.state[lower_limit:upper_limit])\n",
    "    \n",
    "    def move(self, move_by):\n",
    "        assert move_by != 0\n",
    "        new_state = np.zeros_like(self.state)\n",
    "        if move_by < 0:\n",
    "            new_state[:move_by] = self.state[-move_by:]\n",
    "        else:\n",
    "            new_state[move_by:] = self.state[:-move_by]\n",
    "        self.state = new_state\n",
    "        self.zero += move_by\n",
    "    \n",
    "    def grow(self):\n",
    "        new_state = np.zeros(self.size * 2, dtype=self.type)\n",
    "        move_by = self.zero - (self.size // 2)\n",
    "        new_state[self.zero : self.zero + self.size] = self.state\n",
    "        self.state = new_state\n",
    "        self.zero -= move_by\n",
    "    \n",
    "    def evolve_once(self):\n",
    "        self.state[2:-2] = self.patterns[\n",
    "            self.state[:-4],\n",
    "            self.state[1:-3],\n",
    "            self.state[2:-2],\n",
    "            self.state[3:-1],\n",
    "            self.state[4:]\n",
    "        ]\n",
    "        \n",
    "        self.recenter_or_grow_if_neccessary()\n",
    "        \n",
    "        return self\n",
    "    \n",
    "    def evolve(self, number_of_iterations, show_progress=False, show_state=False):\n",
    "        while number_of_iterations:\n",
    "            self.evolve_once()\n",
    "            number_of_iterations -= 1\n",
    "            \n",
    "            if show_progress and number_of_iterations % 1000 == 0:\n",
    "                print('.', end='')\n",
    "            if show_state:\n",
    "                self.print()\n",
    "        return self\n",
    "    \n",
    "    def __repr__(self):\n",
    "        return (\n",
    "            _(self.state)\n",
    "            .map(lambda each: each and '#' or '.')\n",
    "            .join()\n",
    "            ._\n",
    "        )\n",
    "    \n",
    "    def print(self):\n",
    "        print(f\"{self.zero:>5} {self.sum():>5}\", repr(self))\n",
    "    \n",
    "    def sum(self):\n",
    "        return (\n",
    "            _(self.state)\n",
    "            .ienumerate()\n",
    "            .imap(lambda each: each[1] and (each[0] - self.zero) or 0)\n",
    "            .sum()\n",
    "            ._\n",
    "        )"
   ]
  },
  {
   "cell_type": "code",
   "execution_count": 66,
   "metadata": {},
   "outputs": [
    {
     "name": "stdout",
     "output_type": "stream",
     "text": [
      "   37    91 .....................................#...#....#.....#..#..#..#.............\n",
      "   37   132 .....................................##..##...##....#..#..#..##............\n",
      "   37   102 ....................................#.#...#..#.#....#..#..#...#............\n",
      "   37   154 .....................................#.#..#...#.#...#..#..##..##...........\n",
      "   37   115 ......................................#...##...#.#..#..#...#...#...........\n",
      "   37   174 ......................................##.#.#....#...#..##..##..##..........\n",
      "   37   126 .....................................#..###.#...##..#...#...#...#..........\n",
      "   37   213 .....................................#....##.#.#.#..##..##..##..##.........\n",
      "   37   138 .....................................##..#..#####....#...#...#...#.........\n",
      "   37   213 ....................................#.#..#...#.##....##..##..##..##........\n",
      "   37   136 .....................................#...##...#.#...#.#...#...#...#........\n",
      "   37   218 .....................................##.#.#....#.#...#.#..##..##..##.......\n",
      "   37   133 ....................................#..###.#....#.#...#....#...#...#.......\n",
      "   37   235 ....................................#....##.#....#.#..##...##..##..##......\n",
      "   37   149 ....................................##..#..#.#....#....#..#.#...#...#......\n",
      "   37   226 ...................................#.#..#...#.#...##...#...#.#..##..##.....\n",
      "   37   170 ....................................#...##...#.#.#.#...##...#....#...#.....\n",
      "   37   280 ....................................##.#.#....#####.#.#.#...##...##..##....\n",
      "   37   287 ...................................#..###.#..#.#.#######.#.#.#..#.#...#....\n",
      "   18   325 ................#....##....#####...#######....#.#..##......................\n"
     ]
    }
   ],
   "source": [
    "test = State.from_string(\"\"\"initial state: #..#.#..##......###...###\n",
    "\n",
    "...## => #\n",
    "..#.. => #\n",
    ".#... => #\n",
    ".#.#. => #\n",
    ".#.## => #\n",
    ".##.. => #\n",
    ".#### => #\n",
    "#.#.# => #\n",
    "#.### => #\n",
    "##.#. => #\n",
    "##.## => #\n",
    "###.. => #\n",
    "###.# => #\n",
    "####. => #\n",
    "\"\"\")\n",
    "\n",
    "assert 325 == test.evolve(20, show_state=True).sum(), test.sum()"
   ]
  },
  {
   "cell_type": "code",
   "execution_count": 67,
   "metadata": {},
   "outputs": [],
   "source": [
    "# Much faster initially, but then gets linearly slower as the size of the memory increases. And since it increases linearly with execution time\n",
    "# Its still way too slow\n",
    "day12_input = open('input/day12.txt').read()\n",
    "state = State.from_string(day12_input)\n",
    "#state.evolve(50000000000, show_progress=True)\n",
    "#state.evolve(10000, show_progress=True).print()"
   ]
  },
  {
   "cell_type": "markdown",
   "metadata": {},
   "source": [
    "# Day 13\n",
    "\n",
    "https://adventofcode.com/2018/day/13"
   ]
  },
  {
   "cell_type": "code",
   "execution_count": 68,
   "metadata": {},
   "outputs": [],
   "source": [
    "import fluentpy as _\n",
    "from pyexpect import expect"
   ]
  },
  {
   "cell_type": "code",
   "execution_count": 69,
   "metadata": {},
   "outputs": [],
   "source": [
    "Location = _.lib.collections.namedtuple('Location', ('x', 'y'))._\n",
    "\n",
    "UP, RIGHT, DOWN, LEFT, STRAIGHT = '^>v<|'\n",
    "UPDOWN, LEFTRIGHT, UPRIGHT, RIGHTDOWN, DOWNLEFT, LEFTUP = '|-\\/\\/'\n",
    "MOVEMENT = {\n",
    "  '^' : Location(0, -1),\n",
    "  '>' : Location(1, 0),\n",
    "  'v' : Location(0, 1),\n",
    "  '<' : Location(-1, 0)\n",
    "}\n",
    "\n",
    "CURVE = {\n",
    "    '\\\\': { '^':'<', '<':'^', 'v':'>', '>':'v'},\n",
    "    '/':  { '^':'>', '<':'v', 'v':'<', '>':'^'},\n",
    "}\n",
    "\n",
    "INTERSECTION = {\n",
    "    '^': { LEFT:'<', STRAIGHT:'^', RIGHT:'>' },\n",
    "    '>': { LEFT:'^', STRAIGHT:'>', RIGHT:'v' },\n",
    "    'v': { LEFT:'>', STRAIGHT:'v', RIGHT:'<' },\n",
    "    '<': { LEFT:'v', STRAIGHT:'<', RIGHT:'^' },\n",
    "}\n",
    "\n",
    "\n",
    "@_.lib.dataclasses.dataclass._\n",
    "class Cart:\n",
    "    location: Location\n",
    "    orientation: str\n",
    "    world: str\n",
    "    program: iter = _.lib.dataclasses.field._(default_factory=lambda: _((LEFT, STRAIGHT, RIGHT)).icycle()._)\n",
    "        \n",
    "    def tick(self):\n",
    "        move = MOVEMENT[self.orientation]\n",
    "        self.location = Location(self.location.x + move.x, self.location.y + move.y)\n",
    "        \n",
    "        if self.world_at_current_location() in CURVE:\n",
    "            self.orientation = CURVE[self.world_at_current_location()][self.orientation]\n",
    "        if self.world_at_current_location() == '+':\n",
    "            self.orientation = INTERSECTION[self.orientation][next(self.program)]\n",
    "        \n",
    "        return self\n",
    "    \n",
    "    def world_at_current_location(self):\n",
    "        expect(self.location.y) < len(self.world)\n",
    "        expect(self.location.x) < len(self.world[self.location.y])\n",
    "        return self.world[self.location.y][self.location.x]\n",
    "    \n",
    "    def __repr__(self):\n",
    "        return f'<Cart(location={self.location}, orientation={self.orientation})'\n",
    "\n",
    "def parse_carts(world):\n",
    "    world = world.splitlines()\n",
    "    for line_number, line in enumerate(world):\n",
    "        for line_offset, character in _(line).enumerate():\n",
    "            if character in '<>^v':\n",
    "                yield Cart(location=Location(line_offset, line_number), orientation=character, world=world)\n",
    "\n",
    "def crashed_carts(cart, carts):\n",
    "    carts = carts[:]\n",
    "    if cart not in carts:\n",
    "        return tuple() # crashed carts already removed\n",
    "    carts.remove(cart)\n",
    "    for first, second in _([cart]).icycle().zip(carts):\n",
    "        if first.location == second.location:\n",
    "            return first, second\n",
    "\n",
    "def did_crash(cart, carts):\n",
    "    carts = carts[:]\n",
    "    if cart not in carts: # already removed because of crash\n",
    "        return True\n",
    "    carts.remove(cart)\n",
    "    for first, second in _([cart]).icycle().zip(carts):\n",
    "        if first.location == second.location:\n",
    "            return True\n",
    "    return False\n",
    "\n",
    "def location_of_first_crash(input_string):\n",
    "    carts = list(parse_carts(input_string))\n",
    "    while True:\n",
    "        for cart in _(carts).sorted(key=_.each.location._)._:\n",
    "            cart.tick()\n",
    "            if did_crash(cart, carts):\n",
    "                return cart.location\n",
    "\n",
    "def location_of_last_cart_after_crashes(input_string):\n",
    "    carts = list(parse_carts(input_string))\n",
    "    while True:\n",
    "        for cart in _(carts).sorted(key=_.each.location._)._:\n",
    "            cart.tick()\n",
    "            if did_crash(cart, carts):\n",
    "                _(crashed_carts(cart, carts)).each(carts.remove)\n",
    "        if 1 == len(carts):\n",
    "            return carts[0].location\n"
   ]
  },
  {
   "cell_type": "code",
   "execution_count": 70,
   "metadata": {},
   "outputs": [],
   "source": [
    "expect(Cart(location=Location(0,0), orientation='>', world=['>-']).tick().location) == (1,0)\n",
    "expect(Cart(location=Location(0,0), orientation='>', world=['>\\\\']).tick().location) == (1,0)\n",
    "expect(Cart(location=Location(0,0), orientation='>', world=['>\\\\']).tick().orientation) == 'v'\n",
    "expect(Cart(location=Location(0,0), orientation='>', world=['>+']).tick().orientation) == '^'\n",
    "\n",
    "cart1, cart2 = parse_carts('>--<')\n",
    "expect(cart1).has_attributes(location=(0,0), orientation='>')\n",
    "expect(cart2).has_attributes(location=(3,0), orientation='<')\n",
    "expect(location_of_first_crash('>--<')) == (2,0)"
   ]
  },
  {
   "cell_type": "code",
   "execution_count": 71,
   "metadata": {},
   "outputs": [],
   "source": [
    "test_input = r\"\"\"/->-\\        \n",
    "|   |  /----\\\n",
    "| /-+--+-\\  |\n",
    "| | |  | v  |\n",
    "\\-+-/  \\-+--/\n",
    "  \\------/   \n",
    "\"\"\"\n",
    "expect(location_of_first_crash(test_input)) == (7,3)"
   ]
  },
  {
   "cell_type": "code",
   "execution_count": 72,
   "metadata": {},
   "outputs": [
    {
     "data": {
      "text/plain": [
       "Location(x=113, y=136)"
      ]
     },
     "execution_count": 72,
     "metadata": {},
     "output_type": "execute_result"
    }
   ],
   "source": [
    "day13_input = open('input/day13.txt').read()\n",
    "location_of_first_crash(day13_input)"
   ]
  },
  {
   "cell_type": "code",
   "execution_count": 73,
   "metadata": {},
   "outputs": [],
   "source": [
    "test_input = r\"\"\"/>-<\\  \n",
    "|   |  \n",
    "| /<+-\\\n",
    "| | | v\n",
    "\\>+</ |\n",
    "  |   ^\n",
    "  \\<->/\n",
    "\"\"\"\n",
    "expect(location_of_last_cart_after_crashes(test_input)) == (6,4)"
   ]
  },
  {
   "cell_type": "code",
   "execution_count": 74,
   "metadata": {},
   "outputs": [
    {
     "data": {
      "text/plain": [
       "Location(x=114, y=136)"
      ]
     },
     "execution_count": 74,
     "metadata": {},
     "output_type": "execute_result"
    }
   ],
   "source": [
    "location_of_last_cart_after_crashes(day13_input)"
   ]
  },
  {
   "cell_type": "markdown",
   "metadata": {},
   "source": [
    "# Day 14\n",
    "\n",
    "https://adventofcode.com/2018/day/14"
   ]
  },
  {
   "cell_type": "code",
   "execution_count": 75,
   "metadata": {},
   "outputs": [],
   "source": [
    "import fluentpy as _\n",
    "from pyexpect import expect"
   ]
  },
  {
   "cell_type": "code",
   "execution_count": 76,
   "metadata": {},
   "outputs": [],
   "source": [
    "scores = bytearray([3,7])\n",
    "elf1 = 0\n",
    "elf2 = 1\n",
    "\n",
    "def reset():\n",
    "    global scores, elf1, elf2\n",
    "    scores = bytearray([3,7])\n",
    "    elf1 = 0\n",
    "    elf2 = 1\n",
    "\n",
    "def generation():\n",
    "    global scores, elf1, elf2\n",
    "    new_recipe = scores[elf1] + scores[elf2]\n",
    "    first_digit, second_digit = divmod(new_recipe, 10)\n",
    "    if first_digit: scores.append(first_digit)\n",
    "    scores.append(second_digit)\n",
    "    elf1 = (elf1 + 1 + scores[elf1]) % len(scores)\n",
    "    elf2 = (elf2 + 1 + scores[elf2]) % len(scores)"
   ]
  },
  {
   "cell_type": "code",
   "execution_count": 77,
   "metadata": {},
   "outputs": [],
   "source": [
    "def next_10_after(how_many_generations):\n",
    "    reset()\n",
    "    while len(scores) < how_many_generations + 10:\n",
    "        generation()\n",
    "\n",
    "    return _(scores)[how_many_generations:how_many_generations+10].join()._"
   ]
  },
  {
   "cell_type": "code",
   "execution_count": 78,
   "metadata": {},
   "outputs": [],
   "source": [
    "expect(next_10_after(9)) == '5158916779'\n",
    "expect(next_10_after(5)) == '0124515891'\n",
    "expect(next_10_after(18)) == '9251071085'\n",
    "expect(next_10_after(2018)) == '5941429882'"
   ]
  },
  {
   "cell_type": "code",
   "execution_count": 79,
   "metadata": {},
   "outputs": [
    {
     "name": "stdout",
     "output_type": "stream",
     "text": [
      "2157138126\n"
     ]
    }
   ],
   "source": [
    "day14_input = 894501\n",
    "print(next_10_after(day14_input))"
   ]
  },
  {
   "cell_type": "code",
   "execution_count": 80,
   "metadata": {},
   "outputs": [],
   "source": [
    "def generations_till_we_generate(a_number):\n",
    "    needle = _(a_number).str().map(int).call(bytearray)._\n",
    "    reset()\n",
    "    while needle not in scores[-len(needle) - 2:]: # at most two numbers get appended\n",
    "        generation()\n",
    "\n",
    "    return scores.rindex(needle)"
   ]
  },
  {
   "cell_type": "code",
   "execution_count": 81,
   "metadata": {},
   "outputs": [],
   "source": [
    "expect(generations_till_we_generate('51589')) == 9\n",
    "expect(generations_till_we_generate('01245')) == 5\n",
    "expect(generations_till_we_generate('92510')) == 18\n",
    "expect(generations_till_we_generate('59414')) == 2018"
   ]
  },
  {
   "cell_type": "code",
   "execution_count": 82,
   "metadata": {},
   "outputs": [
    {
     "name": "stdout",
     "output_type": "stream",
     "text": [
      "20365081\n"
     ]
    }
   ],
   "source": [
    "print(generations_till_we_generate(day14_input))"
   ]
  },
  {
   "cell_type": "markdown",
   "metadata": {},
   "source": [
    "# Day 15\n",
    "\n",
    "https://adventofcode.com/2018/day/15"
   ]
  },
  {
   "cell_type": "code",
   "execution_count": 18,
   "metadata": {},
   "outputs": [],
   "source": [
    "from pyexpect import expect\n",
    "import fluentpy as _\n",
    "\n",
    "np = _.lib.numpy._"
   ]
  },
  {
   "cell_type": "code",
   "execution_count": 19,
   "metadata": {},
   "outputs": [],
   "source": [
    "@_.lib.dataclasses.dataclass._\n",
    "class Player:\n",
    "    type: chr\n",
    "    x: int\n",
    "    y: int\n",
    "    hitpoints: int = 200\n",
    "    attack_power: int = 3\n",
    "    \n",
    "    def round(self, world):\n",
    "        pass\n",
    "\n",
    "def tuplify(a_function):\n",
    "    @_.lib.functools.wraps._(a_function)\n",
    "    def wrapper(*args, **kwargs):\n",
    "        return tuple(a_function(*args, **kwargs))\n",
    "    return wrapper\n",
    "\n",
    "class Level:\n",
    "    \n",
    "    def __init__(self, level_description):\n",
    "        self.level = np.array(_(level_description).strip().split('\\n').map(tuple)._)\n",
    "    \n",
    "    @tuplify\n",
    "    def parse_players(self):\n",
    "        for row_number, row in enumerate(self.level):\n",
    "            for col_number, char in enumerate(row):\n",
    "                if char in 'GE':\n",
    "                    yield Player(char, x=row_number, y=col_number)\n"
   ]
  },
  {
   "cell_type": "code",
   "execution_count": 20,
   "metadata": {},
   "outputs": [],
   "source": [
    "level = \"\"\"\\\n",
    "#######\n",
    "#.G.E.#\n",
    "#E....#\n",
    "#######\n",
    "\"\"\"\n",
    "expect(Level(level).parse_players()) == (Player('G',1,2), Player('E', 1, 4), Player('E',2,1))"
   ]
  },
  {
   "cell_type": "code",
   "execution_count": null,
   "metadata": {},
   "outputs": [],
   "source": [
    "level = open('input/day15.txt').read()"
   ]
  },
  {
   "cell_type": "code",
   "execution_count": null,
   "metadata": {},
   "outputs": [],
   "source": []
  },
  {
   "cell_type": "code",
   "execution_count": null,
   "metadata": {},
   "outputs": [],
   "source": []
  },
  {
   "cell_type": "code",
   "execution_count": null,
   "metadata": {},
   "outputs": [],
   "source": []
  },
  {
   "cell_type": "code",
   "execution_count": null,
   "metadata": {},
   "outputs": [],
   "source": []
  },
  {
   "cell_type": "code",
   "execution_count": null,
   "metadata": {},
   "outputs": [],
   "source": []
  },
  {
   "cell_type": "code",
   "execution_count": null,
   "metadata": {},
   "outputs": [],
   "source": []
  },
  {
   "cell_type": "code",
   "execution_count": null,
   "metadata": {},
   "outputs": [],
   "source": []
  }
 ],
 "metadata": {
  "kernel_info": {
   "name": "python3"
  },
  "kernelspec": {
   "display_name": "Python 3",
   "language": "python",
   "name": "python3"
  },
  "language_info": {
   "codemirror_mode": {
    "name": "ipython",
    "version": 3
   },
   "file_extension": ".py",
   "mimetype": "text/x-python",
   "name": "python",
   "nbconvert_exporter": "python",
   "pygments_lexer": "ipython3",
   "version": "3.7.2"
  },
  "nteract": {
   "version": "0.12.3"
  },
  "toc-autonumbering": false,
  "toc-showcode": false,
  "toc-showtags": false
 },
 "nbformat": 4,
 "nbformat_minor": 4
}
